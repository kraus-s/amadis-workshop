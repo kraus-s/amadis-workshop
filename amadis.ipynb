{
 "cells": [
  {
   "attachments": {},
   "cell_type": "markdown",
   "metadata": {},
   "source": [
    "# Setup\n",
    "We need to get everything set up."
   ]
  },
  {
   "cell_type": "code",
   "execution_count": null,
   "metadata": {},
   "outputs": [],
   "source": [
    "# %pip install https://huggingface.co/easyh/de_fnhd_nerdh/resolve/main/de_fnhd_nerdh-any-py3-none-any.whl\n",
    "!python -m spacy download \"de_core_news_lg\"\n",
    "%pip install pyldavis\n",
    "%pip install gensim"
   ]
  },
  {
   "cell_type": "code",
   "execution_count": null,
   "metadata": {},
   "outputs": [],
   "source": [
    "import spacy\n",
    "from pathlib import Path\n",
    "import gensim\n",
    "import pyLDAvis\n",
    "from pyLDAvis import gensim_models as gsv\n",
    "from constants import STOPWORDS as stops"
   ]
  },
  {
   "cell_type": "code",
   "execution_count": null,
   "metadata": {},
   "outputs": [],
   "source": [
    "# nlp = spacy.load(\"de_fnhd_nerdh\")\n",
    "nlp = spacy.load(\"de_core_news_lg\")"
   ]
  },
  {
   "cell_type": "code",
   "execution_count": null,
   "metadata": {},
   "outputs": [],
   "source": [
    "input_files = Path(\"./input/\").rglob(\"*.txt\")"
   ]
  },
  {
   "cell_type": "code",
   "execution_count": null,
   "metadata": {},
   "outputs": [],
   "source": [
    "full_corpus = {}\n",
    "\n",
    "for i in input_files:\n",
    "    with open(i, \"r+\") as f:\n",
    "        txt = f.read()\n",
    "    book_name = str(i).split(\"/\")[-1]\n",
    "    book_name = book_name.split(\".\")[0]\n",
    "    full_corpus[book_name] = txt\n",
    "print(len(full_corpus))"
   ]
  },
  {
   "cell_type": "code",
   "execution_count": null,
   "metadata": {},
   "outputs": [],
   "source": [
    "by_chapters = {}\n",
    "\n",
    "for k, v in full_corpus.items():\n",
    "    chaps = v.split(\"Capitel\")\n",
    "    chap_num = 0\n",
    "    for i in chaps:\n",
    "        curr_chap = f\"{k}-{chap_num}-Kap\"\n",
    "        i = i.replace(\"=\\n\", \"\")\n",
    "        by_chapters[curr_chap] = i\n",
    "        chap_num += 1\n",
    "print(len(by_chapters))"
   ]
  },
  {
   "cell_type": "code",
   "execution_count": null,
   "metadata": {},
   "outputs": [],
   "source": [
    "docs_list: list[list[str]] = []\n",
    "for i in nlp.pipe(by_chapters.values(), n_process=7):\n",
    "    itoks = [token.lemma_.lower() for token in i if token.lower_ not in stops and \"\\n\" not in token.lower_ and not token.is_stop]\n",
    "    docs_list.append(itoks)"
   ]
  },
  {
   "cell_type": "code",
   "execution_count": null,
   "metadata": {},
   "outputs": [],
   "source": [
    "corpus_dictionary = gensim.corpora.Dictionary(docs_list)\n",
    "analysis_corpus = [corpus_dictionary.doc2bow(i) for i in docs_list]\n",
    "lda_model = gensim.models.ldamulticore.LdaMulticore(corpus=analysis_corpus,\n",
    "                                              id2word=corpus_dictionary,\n",
    "                                              iterations=75,\n",
    "                                              num_topics=10,\n",
    "                                              workers = 7,\n",
    "                                              passes=12)\n"
   ]
  },
  {
   "cell_type": "code",
   "execution_count": null,
   "metadata": {},
   "outputs": [],
   "source": [
    "lda_display = gsv.prepare(lda_model, analysis_corpus, corpus_dictionary)\n",
    "pyLDAvis.display(lda_display)"
   ]
  },
  {
   "cell_type": "code",
   "execution_count": null,
   "metadata": {},
   "outputs": [],
   "source": []
  }
 ],
 "metadata": {
  "kernelspec": {
   "display_name": "Python 3",
   "language": "python",
   "name": "python3"
  },
  "language_info": {
   "codemirror_mode": {
    "name": "ipython",
    "version": 3
   },
   "file_extension": ".py",
   "mimetype": "text/x-python",
   "name": "python",
   "nbconvert_exporter": "python",
   "pygments_lexer": "ipython3",
   "version": "3.10.8"
  },
  "orig_nbformat": 4,
  "vscode": {
   "interpreter": {
    "hash": "a414dd39a60ba325d0b1bb47a9fb3b86783498faa6b177c5f1e06bfa16726512"
   }
  }
 },
 "nbformat": 4,
 "nbformat_minor": 2
}
